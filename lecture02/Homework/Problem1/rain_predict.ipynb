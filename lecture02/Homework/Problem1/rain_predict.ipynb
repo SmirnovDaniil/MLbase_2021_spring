{
 "cells": [
  {
   "cell_type": "code",
   "execution_count": 23,
   "metadata": {},
   "outputs": [],
   "source": [
    "import numpy as np\n",
    "import pandas as pd\n",
    "import seaborn as sns\n",
    "import matplotlib.pyplot as plt\n",
    "%matplotlib inline"
   ]
  },
  {
   "cell_type": "code",
   "execution_count": 79,
   "metadata": {},
   "outputs": [],
   "source": [
    "data = pd.read_csv(r'weatherAUS.csv')"
   ]
  },
  {
   "cell_type": "code",
   "execution_count": 25,
   "metadata": {},
   "outputs": [
    {
     "data": {
      "text/html": [
       "<div>\n",
       "<style scoped>\n",
       "    .dataframe tbody tr th:only-of-type {\n",
       "        vertical-align: middle;\n",
       "    }\n",
       "\n",
       "    .dataframe tbody tr th {\n",
       "        vertical-align: top;\n",
       "    }\n",
       "\n",
       "    .dataframe thead th {\n",
       "        text-align: right;\n",
       "    }\n",
       "</style>\n",
       "<table border=\"1\" class=\"dataframe\">\n",
       "  <thead>\n",
       "    <tr style=\"text-align: right;\">\n",
       "      <th></th>\n",
       "      <th>Date</th>\n",
       "      <th>Location</th>\n",
       "      <th>MinTemp</th>\n",
       "      <th>MaxTemp</th>\n",
       "      <th>Rainfall</th>\n",
       "      <th>Evaporation</th>\n",
       "      <th>Sunshine</th>\n",
       "      <th>WindGustDir</th>\n",
       "      <th>WindGustSpeed</th>\n",
       "      <th>WindDir9am</th>\n",
       "      <th>...</th>\n",
       "      <th>Humidity9am</th>\n",
       "      <th>Humidity3pm</th>\n",
       "      <th>Pressure9am</th>\n",
       "      <th>Pressure3pm</th>\n",
       "      <th>Cloud9am</th>\n",
       "      <th>Cloud3pm</th>\n",
       "      <th>Temp9am</th>\n",
       "      <th>Temp3pm</th>\n",
       "      <th>RainToday</th>\n",
       "      <th>RainTomorrow</th>\n",
       "    </tr>\n",
       "  </thead>\n",
       "  <tbody>\n",
       "    <tr>\n",
       "      <th>20552</th>\n",
       "      <td>2015-12-07</td>\n",
       "      <td>NorahHead</td>\n",
       "      <td>19.2</td>\n",
       "      <td>26.4</td>\n",
       "      <td>0.0</td>\n",
       "      <td>NaN</td>\n",
       "      <td>NaN</td>\n",
       "      <td>NE</td>\n",
       "      <td>20.0</td>\n",
       "      <td>E</td>\n",
       "      <td>...</td>\n",
       "      <td>84.0</td>\n",
       "      <td>74.0</td>\n",
       "      <td>1021.1</td>\n",
       "      <td>1020.3</td>\n",
       "      <td>NaN</td>\n",
       "      <td>NaN</td>\n",
       "      <td>22.9</td>\n",
       "      <td>25.2</td>\n",
       "      <td>No</td>\n",
       "      <td>No</td>\n",
       "    </tr>\n",
       "    <tr>\n",
       "      <th>37653</th>\n",
       "      <td>2012-02-29</td>\n",
       "      <td>WaggaWagga</td>\n",
       "      <td>19.8</td>\n",
       "      <td>24.4</td>\n",
       "      <td>21.8</td>\n",
       "      <td>1.4</td>\n",
       "      <td>0.0</td>\n",
       "      <td>E</td>\n",
       "      <td>54.0</td>\n",
       "      <td>ESE</td>\n",
       "      <td>...</td>\n",
       "      <td>92.0</td>\n",
       "      <td>83.0</td>\n",
       "      <td>1012.5</td>\n",
       "      <td>1011.5</td>\n",
       "      <td>8.0</td>\n",
       "      <td>8.0</td>\n",
       "      <td>21.2</td>\n",
       "      <td>21.5</td>\n",
       "      <td>Yes</td>\n",
       "      <td>Yes</td>\n",
       "    </tr>\n",
       "    <tr>\n",
       "      <th>107722</th>\n",
       "      <td>2015-02-28</td>\n",
       "      <td>Woomera</td>\n",
       "      <td>25.0</td>\n",
       "      <td>41.7</td>\n",
       "      <td>0.0</td>\n",
       "      <td>NaN</td>\n",
       "      <td>NaN</td>\n",
       "      <td>SSW</td>\n",
       "      <td>56.0</td>\n",
       "      <td>N</td>\n",
       "      <td>...</td>\n",
       "      <td>18.0</td>\n",
       "      <td>7.0</td>\n",
       "      <td>1005.4</td>\n",
       "      <td>1003.2</td>\n",
       "      <td>NaN</td>\n",
       "      <td>NaN</td>\n",
       "      <td>30.6</td>\n",
       "      <td>40.8</td>\n",
       "      <td>No</td>\n",
       "      <td>No</td>\n",
       "    </tr>\n",
       "    <tr>\n",
       "      <th>125195</th>\n",
       "      <td>2012-11-03</td>\n",
       "      <td>SalmonGums</td>\n",
       "      <td>7.4</td>\n",
       "      <td>28.2</td>\n",
       "      <td>0.0</td>\n",
       "      <td>NaN</td>\n",
       "      <td>NaN</td>\n",
       "      <td>NW</td>\n",
       "      <td>46.0</td>\n",
       "      <td>N</td>\n",
       "      <td>...</td>\n",
       "      <td>61.0</td>\n",
       "      <td>26.0</td>\n",
       "      <td>NaN</td>\n",
       "      <td>NaN</td>\n",
       "      <td>NaN</td>\n",
       "      <td>NaN</td>\n",
       "      <td>20.9</td>\n",
       "      <td>27.0</td>\n",
       "      <td>No</td>\n",
       "      <td>No</td>\n",
       "    </tr>\n",
       "    <tr>\n",
       "      <th>45585</th>\n",
       "      <td>2017-06-24</td>\n",
       "      <td>Wollongong</td>\n",
       "      <td>12.3</td>\n",
       "      <td>18.9</td>\n",
       "      <td>0.0</td>\n",
       "      <td>NaN</td>\n",
       "      <td>NaN</td>\n",
       "      <td>WNW</td>\n",
       "      <td>56.0</td>\n",
       "      <td>W</td>\n",
       "      <td>...</td>\n",
       "      <td>50.0</td>\n",
       "      <td>38.0</td>\n",
       "      <td>1016.3</td>\n",
       "      <td>1015.1</td>\n",
       "      <td>NaN</td>\n",
       "      <td>NaN</td>\n",
       "      <td>14.1</td>\n",
       "      <td>18.0</td>\n",
       "      <td>No</td>\n",
       "      <td>No</td>\n",
       "    </tr>\n",
       "    <tr>\n",
       "      <th>89011</th>\n",
       "      <td>2014-02-13</td>\n",
       "      <td>Cairns</td>\n",
       "      <td>21.9</td>\n",
       "      <td>29.4</td>\n",
       "      <td>10.6</td>\n",
       "      <td>3.6</td>\n",
       "      <td>4.3</td>\n",
       "      <td>SE</td>\n",
       "      <td>37.0</td>\n",
       "      <td>S</td>\n",
       "      <td>...</td>\n",
       "      <td>75.0</td>\n",
       "      <td>70.0</td>\n",
       "      <td>1011.1</td>\n",
       "      <td>1008.4</td>\n",
       "      <td>3.0</td>\n",
       "      <td>5.0</td>\n",
       "      <td>26.6</td>\n",
       "      <td>28.2</td>\n",
       "      <td>Yes</td>\n",
       "      <td>No</td>\n",
       "    </tr>\n",
       "    <tr>\n",
       "      <th>86144</th>\n",
       "      <td>2014-08-05</td>\n",
       "      <td>Brisbane</td>\n",
       "      <td>10.9</td>\n",
       "      <td>21.8</td>\n",
       "      <td>0.4</td>\n",
       "      <td>3.4</td>\n",
       "      <td>9.6</td>\n",
       "      <td>ESE</td>\n",
       "      <td>24.0</td>\n",
       "      <td>SW</td>\n",
       "      <td>...</td>\n",
       "      <td>69.0</td>\n",
       "      <td>48.0</td>\n",
       "      <td>1031.3</td>\n",
       "      <td>1028.2</td>\n",
       "      <td>1.0</td>\n",
       "      <td>3.0</td>\n",
       "      <td>15.7</td>\n",
       "      <td>19.9</td>\n",
       "      <td>No</td>\n",
       "      <td>NaN</td>\n",
       "    </tr>\n",
       "    <tr>\n",
       "      <th>21993</th>\n",
       "      <td>2011-06-24</td>\n",
       "      <td>NorfolkIsland</td>\n",
       "      <td>15.3</td>\n",
       "      <td>19.9</td>\n",
       "      <td>0.0</td>\n",
       "      <td>3.8</td>\n",
       "      <td>6.7</td>\n",
       "      <td>SW</td>\n",
       "      <td>50.0</td>\n",
       "      <td>W</td>\n",
       "      <td>...</td>\n",
       "      <td>67.0</td>\n",
       "      <td>57.0</td>\n",
       "      <td>1018.6</td>\n",
       "      <td>1017.8</td>\n",
       "      <td>2.0</td>\n",
       "      <td>1.0</td>\n",
       "      <td>18.5</td>\n",
       "      <td>18.8</td>\n",
       "      <td>No</td>\n",
       "      <td>No</td>\n",
       "    </tr>\n",
       "    <tr>\n",
       "      <th>26795</th>\n",
       "      <td>2016-06-19</td>\n",
       "      <td>Penrith</td>\n",
       "      <td>13.3</td>\n",
       "      <td>15.5</td>\n",
       "      <td>0.2</td>\n",
       "      <td>NaN</td>\n",
       "      <td>NaN</td>\n",
       "      <td>SSW</td>\n",
       "      <td>17.0</td>\n",
       "      <td>NaN</td>\n",
       "      <td>...</td>\n",
       "      <td>98.0</td>\n",
       "      <td>98.0</td>\n",
       "      <td>NaN</td>\n",
       "      <td>NaN</td>\n",
       "      <td>NaN</td>\n",
       "      <td>NaN</td>\n",
       "      <td>14.6</td>\n",
       "      <td>15.1</td>\n",
       "      <td>No</td>\n",
       "      <td>Yes</td>\n",
       "    </tr>\n",
       "    <tr>\n",
       "      <th>121588</th>\n",
       "      <td>2011-02-06</td>\n",
       "      <td>Perth</td>\n",
       "      <td>16.0</td>\n",
       "      <td>30.1</td>\n",
       "      <td>0.0</td>\n",
       "      <td>14.4</td>\n",
       "      <td>12.4</td>\n",
       "      <td>ESE</td>\n",
       "      <td>46.0</td>\n",
       "      <td>E</td>\n",
       "      <td>...</td>\n",
       "      <td>37.0</td>\n",
       "      <td>20.0</td>\n",
       "      <td>1019.2</td>\n",
       "      <td>1015.1</td>\n",
       "      <td>1.0</td>\n",
       "      <td>1.0</td>\n",
       "      <td>20.0</td>\n",
       "      <td>29.0</td>\n",
       "      <td>No</td>\n",
       "      <td>No</td>\n",
       "    </tr>\n",
       "  </tbody>\n",
       "</table>\n",
       "<p>10 rows × 23 columns</p>\n",
       "</div>"
      ],
      "text/plain": [
       "              Date       Location  MinTemp  MaxTemp  Rainfall  Evaporation  \\\n",
       "20552   2015-12-07      NorahHead     19.2     26.4       0.0          NaN   \n",
       "37653   2012-02-29     WaggaWagga     19.8     24.4      21.8          1.4   \n",
       "107722  2015-02-28        Woomera     25.0     41.7       0.0          NaN   \n",
       "125195  2012-11-03     SalmonGums      7.4     28.2       0.0          NaN   \n",
       "45585   2017-06-24     Wollongong     12.3     18.9       0.0          NaN   \n",
       "89011   2014-02-13         Cairns     21.9     29.4      10.6          3.6   \n",
       "86144   2014-08-05       Brisbane     10.9     21.8       0.4          3.4   \n",
       "21993   2011-06-24  NorfolkIsland     15.3     19.9       0.0          3.8   \n",
       "26795   2016-06-19        Penrith     13.3     15.5       0.2          NaN   \n",
       "121588  2011-02-06          Perth     16.0     30.1       0.0         14.4   \n",
       "\n",
       "        Sunshine WindGustDir  WindGustSpeed WindDir9am  ... Humidity9am  \\\n",
       "20552        NaN          NE           20.0          E  ...        84.0   \n",
       "37653        0.0           E           54.0        ESE  ...        92.0   \n",
       "107722       NaN         SSW           56.0          N  ...        18.0   \n",
       "125195       NaN          NW           46.0          N  ...        61.0   \n",
       "45585        NaN         WNW           56.0          W  ...        50.0   \n",
       "89011        4.3          SE           37.0          S  ...        75.0   \n",
       "86144        9.6         ESE           24.0         SW  ...        69.0   \n",
       "21993        6.7          SW           50.0          W  ...        67.0   \n",
       "26795        NaN         SSW           17.0        NaN  ...        98.0   \n",
       "121588      12.4         ESE           46.0          E  ...        37.0   \n",
       "\n",
       "        Humidity3pm  Pressure9am  Pressure3pm  Cloud9am  Cloud3pm  Temp9am  \\\n",
       "20552          74.0       1021.1       1020.3       NaN       NaN     22.9   \n",
       "37653          83.0       1012.5       1011.5       8.0       8.0     21.2   \n",
       "107722          7.0       1005.4       1003.2       NaN       NaN     30.6   \n",
       "125195         26.0          NaN          NaN       NaN       NaN     20.9   \n",
       "45585          38.0       1016.3       1015.1       NaN       NaN     14.1   \n",
       "89011          70.0       1011.1       1008.4       3.0       5.0     26.6   \n",
       "86144          48.0       1031.3       1028.2       1.0       3.0     15.7   \n",
       "21993          57.0       1018.6       1017.8       2.0       1.0     18.5   \n",
       "26795          98.0          NaN          NaN       NaN       NaN     14.6   \n",
       "121588         20.0       1019.2       1015.1       1.0       1.0     20.0   \n",
       "\n",
       "        Temp3pm  RainToday  RainTomorrow  \n",
       "20552      25.2         No            No  \n",
       "37653      21.5        Yes           Yes  \n",
       "107722     40.8         No            No  \n",
       "125195     27.0         No            No  \n",
       "45585      18.0         No            No  \n",
       "89011      28.2        Yes            No  \n",
       "86144      19.9         No           NaN  \n",
       "21993      18.8         No            No  \n",
       "26795      15.1         No           Yes  \n",
       "121588     29.0         No            No  \n",
       "\n",
       "[10 rows x 23 columns]"
      ]
     },
     "execution_count": 25,
     "metadata": {},
     "output_type": "execute_result"
    }
   ],
   "source": [
    "data.sample(10)"
   ]
  },
  {
   "cell_type": "code",
   "execution_count": 5,
   "metadata": {},
   "outputs": [
    {
     "data": {
      "text/plain": [
       "(145460, 23)"
      ]
     },
     "execution_count": 5,
     "metadata": {},
     "output_type": "execute_result"
    }
   ],
   "source": [
    "data.shape\n"
   ]
  },
  {
   "cell_type": "code",
   "execution_count": 9,
   "metadata": {},
   "outputs": [
    {
     "data": {
      "text/plain": [
       "Date                 0\n",
       "Location             0\n",
       "MinTemp           1485\n",
       "MaxTemp           1261\n",
       "Rainfall          3261\n",
       "Evaporation      62790\n",
       "Sunshine         69835\n",
       "WindGustDir      10326\n",
       "WindGustSpeed    10263\n",
       "WindDir9am       10566\n",
       "WindDir3pm        4228\n",
       "WindSpeed9am      1767\n",
       "WindSpeed3pm      3062\n",
       "Humidity9am       2654\n",
       "Humidity3pm       4507\n",
       "Pressure9am      15065\n",
       "Pressure3pm      15028\n",
       "Cloud9am         55888\n",
       "Cloud3pm         59358\n",
       "Temp9am           1767\n",
       "Temp3pm           3609\n",
       "RainToday         3261\n",
       "RainTomorrow      3267\n",
       "dtype: int64"
      ]
     },
     "execution_count": 9,
     "metadata": {},
     "output_type": "execute_result"
    }
   ],
   "source": [
    "data.isna().sum()"
   ]
  },
  {
   "cell_type": "markdown",
   "metadata": {},
   "source": [
    "Практически в каждом столбце есть пропуски"
   ]
  },
  {
   "cell_type": "markdown",
   "metadata": {},
   "source": [
    "Удалим из данных те строки,в которых не определена переменная RainTomorrow"
   ]
  },
  {
   "cell_type": "code",
   "execution_count": 80,
   "metadata": {},
   "outputs": [],
   "source": [
    "indeces=data.RainTomorrow.dropna().index\n"
   ]
  },
  {
   "cell_type": "code",
   "execution_count": 81,
   "metadata": {},
   "outputs": [],
   "source": [
    "data=data.iloc[indeces]"
   ]
  },
  {
   "cell_type": "code",
   "execution_count": 82,
   "metadata": {},
   "outputs": [],
   "source": [
    "from sklearn.model_selection import train_test_split\n",
    "\n",
    "y = data[\"RainTomorrow\"]\n",
    "X = data.drop(columns=[\"RainTomorrow\"])\n",
    "\n",
    "X_train, X_test, y_train, y_test = train_test_split(X, y, test_size=0.25, random_state=10)"
   ]
  },
  {
   "cell_type": "code",
   "execution_count": 83,
   "metadata": {},
   "outputs": [
    {
     "data": {
      "image/png": "[encoded data removed]",
      "text/plain": [
       "<Figure size 432x288 with 1 Axes>"
      ]
     },
     "metadata": {},
     "output_type": "display_data"
    }
   ],
   "source": [
    "sns.countplot(y_train);"
   ]
  },
  {
   "cell_type": "markdown",
   "metadata": {},
   "source": [
    "Заменим все пропуски в численных данных средним значением, а все пропуски значением nogGiven"
   ]
  },
  {
   "cell_type": "code",
   "execution_count": 84,
   "metadata": {},
   "outputs": [],
   "source": [
    "numeric_data = X_train.select_dtypes([np.number])\n",
    "numeric_data_mean = numeric_data.mean()\n",
    "numeric_features = numeric_data.columns\n",
    "X_train = X_train.fillna(numeric_data_mean)\n",
    "X_test = X_test.fillna(numeric_data_mean)"
   ]
  },
  {
   "cell_type": "code",
   "execution_count": 85,
   "metadata": {},
   "outputs": [],
   "source": [
    "categorical = list(X_train.dtypes[X_train.dtypes == \"object\"].index)\n",
    "X_train[categorical] = X_train[categorical].fillna(\"NotGiven\")\n",
    "X_test[categorical] = X_test[categorical].fillna(\"NotGiven\")"
   ]
  },
  {
   "cell_type": "markdown",
   "metadata": {},
   "source": [
    "Добавим несколько новых признаков,это будут день недели в году и месяц"
   ]
  },
  {
   "cell_type": "code",
   "execution_count": 86,
   "metadata": {},
   "outputs": [],
   "source": [
    "def gen_feat(data):\n",
    "    data['Date']=pd.to_datetime(data.Date)\n",
    "    data['week']=data['Date'].dt.isocalendar().week\n",
    "    data['month']=data['Date'].dt.month\n",
    "gen_feat(X_train)\n",
    "gen_feat(X_test)"
   ]
  },
  {
   "cell_type": "markdown",
   "metadata": {},
   "source": [
    "Теперь закодируем категориальные признаки и стандартизируем численные"
   ]
  },
  {
   "cell_type": "code",
   "execution_count": 97,
   "metadata": {},
   "outputs": [],
   "source": [
    "from sklearn.preprocessing import StandardScaler\n",
    "from sklearn.preprocessing import OneHotEncoder\n",
    "from sklearn.compose import ColumnTransformer\n",
    "\n",
    "column_transformer = ColumnTransformer([\n",
    "    ('ohe', OneHotEncoder(handle_unknown=\"ignore\"), categorical),\n",
    "    ('scaling', StandardScaler(), numeric_features)\n",
    "])\n",
    "X_train_tr = column_transformer.fit_transform(X_train)\n",
    "X_test_tr = column_transformer.transform(X_test)\n"
   ]
  },
  {
   "cell_type": "markdown",
   "metadata": {},
   "source": [
    "Будем считать для всех моделей 4 метрики"
   ]
  },
  {
   "cell_type": "code",
   "execution_count": 143,
   "metadata": {},
   "outputs": [],
   "source": [
    "from sklearn.metrics import accuracy_score\n",
    "from sklearn.metrics import precision_score\n",
    "from sklearn.metrics import recall_score\n",
    "from sklearn.metrics import f1_score"
   ]
  },
  {
   "cell_type": "code",
   "execution_count": 142,
   "metadata": {},
   "outputs": [
    {
     "name": "stdout",
     "output_type": "stream",
     "text": [
      "Wall time: 30min 14s\n"
     ]
    }
   ],
   "source": [
    "%%time\n",
    "from sklearn.neighbors import KNeighborsClassifier\n",
    "\n",
    "n_nb = range(1, 9)\n",
    "nb_acc = []\n",
    "nb_pr = []\n",
    "nb_rec = []\n",
    "nb_f1 = []\n",
    "\n",
    "for i in n_nb: \n",
    "    neigh = KNeighborsClassifier(n_neighbors=i, n_jobs=4)\n",
    "    neigh.fit(X_train_tr, y_train)\n",
    "\n",
    "    prediction = neigh.predict(X_test_tr)\n",
    "\n",
    "    nb_acc.append(accuracy_score(y_test, regr_prediction))\n",
    "    nb_pr.append(precision_score(y_test, prediction, pos_label=\"Yes\"))\n",
    "    nb_rec.append(recall_score(y_test, prediction, pos_label=\"Yes\"))\n",
    "    nb_f1.append(f1_score(y_test, prediction, pos_label=\"Yes\"))"
   ]
  },
  {
   "cell_type": "code",
   "execution_count": 146,
   "metadata": {},
   "outputs": [
    {
     "name": "stdout",
     "output_type": "stream",
     "text": [
      "[0.8525134321640553, 0.8525134321640553, 0.8525134321640553, 0.8525134321640553, 0.8525134321640553, 0.8525134321640553, 0.8525134321640553, 0.8525134321640553]\n",
      "[0.5695569962182604, 0.7294213528932355, 0.6634987113402062, 0.7489936064409187, 0.7052356020942409, 0.7585585585585586, 0.7284768211920529, 0.7671899181958877]\n",
      "[0.5307740717432348, 0.33794839521711767, 0.5184392699811202, 0.39811202013845187, 0.5086217747010698, 0.4239144115796098, 0.4984266834487099, 0.4367526746381372]\n",
      "[0.5494820509479444, 0.46189575090314805, 0.5820674062036317, 0.5198882314266929, 0.5910054844606947, 0.5438837303189342, 0.5918840146476346, 0.5566249598973373]\n"
     ]
    }
   ],
   "source": [
    "print(nb_acc)\n",
    "print(nb_pr)\n",
    "print(nb_rec)\n",
    "print(nb_f1)"
   ]
  },
  {
   "cell_type": "markdown",
   "metadata": {},
   "source": [
    "Выберем лучшие гиперпараметры в зависимости от метрики,которую хотим оптимизировать.\n",
    "Допустим это F-мера.Тогда наилучшим параметром числа соседей будет 7.\n"
   ]
  },
  {
   "cell_type": "code",
   "execution_count": 147,
   "metadata": {},
   "outputs": [
    {
     "name": "stdout",
     "output_type": "stream",
     "text": [
      "Wall time: 3min 57s\n"
     ]
    }
   ],
   "source": [
    "%%time\n",
    "neigh = KNeighborsClassifier(n_neighbors=7, n_jobs=4)\n",
    "neigh.fit(X_train_tr, y_train)\n",
    "prediction = neigh.predict(X_test_tr)"
   ]
  },
  {
   "cell_type": "code",
   "execution_count": 148,
   "metadata": {},
   "outputs": [
    {
     "name": "stdout",
     "output_type": "stream",
     "text": [
      "Wall time: 10.6 s\n"
     ]
    }
   ],
   "source": [
    "%%time\n",
    "from sklearn.linear_model import LogisticRegression\n",
    "\n",
    "classifier = LogisticRegression(penalty =  'l2', max_iter = 5000, n_jobs=4)\n",
    "classifier.fit(X_train_tr, y_train)\n",
    "regr_prediction = classifier.predict(X_test_tr)"
   ]
  },
  {
   "cell_type": "code",
   "execution_count": 150,
   "metadata": {},
   "outputs": [
    {
     "name": "stdout",
     "output_type": "stream",
     "text": [
      "Wall time: 19.2 s\n"
     ]
    }
   ],
   "source": [
    "%%time\n",
    "from sklearn.naive_bayes import  GaussianNB\n",
    "\n",
    "classifier = GaussianNB()\n",
    "classifier.fit(X_train_tr.toarray(), y_train)\n",
    "nb_prediction = classifier.predict(X_test_tr.toarray())"
   ]
  },
  {
   "cell_type": "code",
   "execution_count": 151,
   "metadata": {},
   "outputs": [
    {
     "name": "stdout",
     "output_type": "stream",
     "text": [
      "logistic_regression_accuracy 0.8525134321640553\n",
      "logistic_regression_precision 0.7247172322022621\n",
      "logistic_regression_recall 0.5483952171176841\n",
      "logistic_regression_f1 0.6243462062047718\n"
     ]
    }
   ],
   "source": [
    "print(\"logistic_regression_accuracy\", accuracy_score(y_test, regr_prediction))\n",
    "print(\"logistic_regression_precision\", precision_score(y_test,regr_prediction, pos_label=\"Yes\"))\n",
    "print(\"logistic_regression_recall\", recall_score(y_test, regr_prediction, pos_label=\"Yes\"))\n",
    "print(\"logistic_regression_f1\", f1_score(y_test, regr_prediction, pos_label=\"Yes\"))"
   ]
  },
  {
   "cell_type": "code",
   "execution_count": 152,
   "metadata": {},
   "outputs": [
    {
     "name": "stdout",
     "output_type": "stream",
     "text": [
      "naive_bayes_accuracy 0.4611381473459169\n",
      "naive_bayes_precision 0.2716049382716049\n",
      "naive_bayes_recall 0.839018250471995\n",
      "naive_bayes_f1 0.4103669047032751\n"
     ]
    }
   ],
   "source": [
    "print(\"naive_bayes_accuracy\", accuracy_score(y_test, nb_prediction))\n",
    "print(\"naive_bayes_precision\", precision_score(y_test, nb_prediction, pos_label=\"Yes\"))\n",
    "print(\"naive_bayes_recall\", recall_score(y_test, nb_prediction, pos_label=\"Yes\"))\n",
    "print(\"naive_bayes_f1\", f1_score(y_test, nb_prediction, pos_label=\"Yes\"))"
   ]
  },
  {
   "cell_type": "code",
   "execution_count": null,
   "metadata": {},
   "outputs": [],
   "source": []
  },
  {
   "cell_type": "markdown",
   "metadata": {},
   "source": [
    "# Вывод\n",
    "Были обучены 3 модели :                                         \n",
    "1.С помощью Байесовских классификаторов                                    \n",
    "2.С помощью логистической регрессии                                                      \n",
    "3.С помощью метода ближайших соседей                                                          \n",
    "Время обучения первой модели: 4 min                                          \n",
    "Время обучения первой модели: 11s                                                      \n",
    "Время обучения первой модели: 19s                                                     \n",
    "Лучшее значение метрики F-measure показала логистическая регрессия - 0.6243                               \n",
    "метод ближайших соседей чуть хуже - 0.5918                                                                \n",
    "и наихудшее значение показал Байесовский классификатор - 0.41                                       \n",
    "В среднем метод ближайших соседей и логистическая регрессия дают схожие результаты на различных метриках, когда Байесовский классификатор сильно отстает в доле верных ответов и точности,но выигрывает в полноте"
   ]
  },
  {
   "cell_type": "code",
   "execution_count": null,
   "metadata": {},
   "outputs": [],
   "source": []
  }
 ],
 "metadata": {
  "kernelspec": {
   "display_name": "Python 3",
   "language": "python",
   "name": "python3"
  },
  "language_info": {
   "codemirror_mode": {
    "name": "ipython",
    "version": 3
   },
   "file_extension": ".py",
   "mimetype": "text/x-python",
   "name": "python",
   "nbconvert_exporter": "python",
   "pygments_lexer": "ipython3",
   "version": "3.6.5"
  }
 },
 "nbformat": 4,
 "nbformat_minor": 2
}
